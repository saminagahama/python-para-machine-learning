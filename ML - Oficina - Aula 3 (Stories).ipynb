{
 "cells": [
  {
   "cell_type": "code",
   "execution_count": 2,
   "id": "a58ec328",
   "metadata": {},
   "outputs": [],
   "source": [
    "import numpy as np\n",
    "#Etapa 1\n",
    "visualizacao_stories = np.array([\n",
    "    [187, 120, 88, 70, 130, 168, 213],\n",
    "    [0, 0, 42, 0, 0, 55, 77],\n",
    "    [91, 0, 61, 0, 71, 121, 271],\n",
    "    [0, 0, 0, 0, 187, 0, 0],\n",
    "    [42, 23, 34, 0, 39, 29, 36]\n",
    "])\n",
    "pessoas = ['Raquel', 'Lucas', 'Daniel', 'Natalia', 'Anderson']\n",
    "dias_semana = ['Domingo', 'Segunda', 'Terça', 'Quarta', 'Quinta', 'Sexta', 'Sábado']"
   ]
  },
  {
   "cell_type": "code",
   "execution_count": 3,
   "id": "0a7294e6",
   "metadata": {},
   "outputs": [
    {
     "name": "stdout",
     "output_type": "stream",
     "text": [
      "['Domingo' '64.0']\n",
      "['Segunda' '28.6']\n",
      "['Terça' '45.0']\n",
      "['Quarta' '14.0']\n",
      "['Quinta' '85.4']\n",
      "['Sexta' '74.6']\n",
      "['Sábado' '119.4']\n"
     ]
    }
   ],
   "source": [
    "media_dia = visualizacao_stories.mean(axis=0)\n",
    "for media, dia in zip(media_dia, dias_semana):\n",
    "    media_por_dia = np.array([dia, str(media)])\n",
    "    print(media_por_dia)"
   ]
  },
  {
   "cell_type": "code",
   "execution_count": 4,
   "id": "980f0bd8",
   "metadata": {},
   "outputs": [
    {
     "name": "stdout",
     "output_type": "stream",
     "text": [
      "Sábado\n"
     ]
    }
   ],
   "source": [
    "maior_media = media_dia.max()\n",
    "dia_maior_media = media_dia.argmax()\n",
    "dia_mais_visualizado = dias_semana[dia_maior_media]\n",
    "print(dia_mais_visualizado)"
   ]
  },
  {
   "cell_type": "code",
   "execution_count": 5,
   "id": "4c36b8df",
   "metadata": {},
   "outputs": [
    {
     "name": "stdout",
     "output_type": "stream",
     "text": [
      "Raquel\n"
     ]
    }
   ],
   "source": [
    "pessoa_media = visualizacao_stories.mean(axis=1)\n",
    "pessoa_vis = pessoa_media.argmax()\n",
    "pessoa_mais_visualizada = pessoas[pessoa_vis]\n",
    "print(pessoa_mais_visualizada)"
   ]
  },
  {
   "cell_type": "code",
   "execution_count": 6,
   "id": "fd99b621",
   "metadata": {},
   "outputs": [],
   "source": [
    "#Etapa 2\n",
    "import numpy.ma as ma\n",
    "visualizacao_stories_invalidos = np.array([\n",
    "    [52, 68, 97, 55, -1, 98, -1],\n",
    "    [53, -1, 38, -1, -1, 72, 49],\n",
    "    [88, -1, 64, -1, 77, 130, 43],\n",
    "    [-1, 30, -1, -1, -1, 182, -1],\n",
    "    [41, 20, 33, -1, 37, 23, 7]\n",
    "])"
   ]
  },
  {
   "cell_type": "code",
   "execution_count": 7,
   "id": "2dd6f9ca",
   "metadata": {},
   "outputs": [],
   "source": [
    "visualizacao_stories_2 = np.ma.masked_where(visualizacao_stories_invalidos == -1, visualizacao_stories_invalidos)"
   ]
  },
  {
   "cell_type": "code",
   "execution_count": 12,
   "id": "8c12b0bb",
   "metadata": {},
   "outputs": [
    {
     "name": "stdout",
     "output_type": "stream",
     "text": [
      "['Domingo' '55.3']\n",
      "['Segunda' '25.9']\n",
      "['Terça' '45.6']\n",
      "['Quarta' '12.1']\n",
      "['Quinta' '53.8']\n",
      "['Sexta' '87.8']\n",
      "['Sábado' '69.4']\n"
     ]
    }
   ],
   "source": [
    "visualizacao_semanas = np.concatenate((visualizacao_stories, visualizacao_stories_2))\n",
    "media_dia = visualizacao_semanas.mean(axis=0)\n",
    "for media, dia in zip(media_dia, dias_semana):\n",
    "    media_por_dia = np.array([dia, str(media)])\n",
    "    print(media_por_dia)"
   ]
  },
  {
   "cell_type": "code",
   "execution_count": 13,
   "id": "e900fa3f",
   "metadata": {},
   "outputs": [
    {
     "name": "stdout",
     "output_type": "stream",
     "text": [
      "Sexta\n"
     ]
    }
   ],
   "source": [
    "maior_media = media_dia.max()\n",
    "dia_maior_media = media_dia.argmax()\n",
    "dia_mais_visualizado = dias_semana[dia_maior_media]\n",
    "print(dia_mais_visualizado)"
   ]
  },
  {
   "cell_type": "code",
   "execution_count": 17,
   "id": "4e0a846a",
   "metadata": {},
   "outputs": [
    {
     "name": "stdout",
     "output_type": "stream",
     "text": [
      "[139.42857143  24.85714286  87.85714286  26.71428571  29.\n",
      "  52.57142857  29.85714286  57.14285714  29.57142857  22.85714286]\n",
      "0\n",
      "Raquel\n"
     ]
    }
   ],
   "source": [
    "pessoa_media = visualizacao_semanas.mean(axis=1)\n",
    "pessoa_vis = pessoa_media.argmax()\n",
    "pessoa_mais_visualizada = pessoas[pessoa_vis]\n",
    "print(pessoa_mais_visualizada)"
   ]
  }
 ],
 "metadata": {
  "kernelspec": {
   "display_name": "Python 3",
   "language": "python",
   "name": "python3"
  },
  "language_info": {
   "codemirror_mode": {
    "name": "ipython",
    "version": 3
   },
   "file_extension": ".py",
   "mimetype": "text/x-python",
   "name": "python",
   "nbconvert_exporter": "python",
   "pygments_lexer": "ipython3",
   "version": "3.8.8"
  }
 },
 "nbformat": 4,
 "nbformat_minor": 5
}
