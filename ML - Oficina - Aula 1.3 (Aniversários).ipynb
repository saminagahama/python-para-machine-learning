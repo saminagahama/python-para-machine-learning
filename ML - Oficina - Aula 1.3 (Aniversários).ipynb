{
 "cells": [
  {
   "cell_type": "code",
   "execution_count": 60,
   "id": "9726254e",
   "metadata": {},
   "outputs": [],
   "source": [
    "from datetime import datetime\n",
    "import locale\n",
    "locale.setlocale(locale.LC_ALL, 'pt_BR')\n",
    "aniversarios = ['01/02/1990', '22 de Maio de 1991', '04/Abr/1995', '1995-Outubro-10', '12 Julho 1989', '16 de Junho de 1987', '04/07/1990']"
   ]
  },
  {
   "cell_type": "code",
   "execution_count": 153,
   "id": "48ff0349",
   "metadata": {
    "scrolled": true
   },
   "outputs": [],
   "source": [
    "lista_formatada = []\n",
    "hoje = date.today()\n",
    "for data in aniversarios:\n",
    "    if len(data) == 10:\n",
    "        formato = datetime.strptime(data, '%d/%m/%Y')\n",
    "    elif len(data) == 18:\n",
    "        formato = datetime.strptime(data,'%d de %B de %Y')\n",
    "    elif len(data) == 11:\n",
    "        formato = datetime.strptime(data,'%d/%b/%Y')\n",
    "    elif len(data) == 15:\n",
    "        formato = datetime.strptime(data,'%Y-%B-%d')\n",
    "    elif len(data) == 13:\n",
    "        formato = datetime.strptime(data,'%d %B %Y')\n",
    "    else:\n",
    "        formato = datetime.strptime(data,'%d de %B de %Y')\n",
    "    lista_formatada.append(formato.strftime('%d de %B'))"
   ]
  },
  {
   "cell_type": "code",
   "execution_count": 154,
   "id": "58184f22",
   "metadata": {},
   "outputs": [
    {
     "name": "stdout",
     "output_type": "stream",
     "text": [
      "Ordem de aniversários: ['01 de fevereiro', '04 de abril', '04 de julho', '10 de outubro', '12 de julho', '16 de junho', '22 de maio']\n"
     ]
    }
   ],
   "source": [
    "lista_ordenada = sorted(lista_formatada)\n",
    "print('Ordem de aniversários:',lista_ordenada)"
   ]
  },
  {
   "cell_type": "code",
   "execution_count": 163,
   "id": "06e9061d",
   "metadata": {},
   "outputs": [],
   "source": [
    "hoje_data = date.today()\n",
    "hoje = hoje_data.strftime(\"%d de %B\")\n",
    "\n",
    "for data in lista_formatada:\n",
    "    if hoje == data:\n",
    "        print('Hoje, (%A) (%d) de (%B) de (%Y), tem aniversário!')    "
   ]
  }
 ],
 "metadata": {
  "kernelspec": {
   "display_name": "Python 3",
   "language": "python",
   "name": "python3"
  },
  "language_info": {
   "codemirror_mode": {
    "name": "ipython",
    "version": 3
   },
   "file_extension": ".py",
   "mimetype": "text/x-python",
   "name": "python",
   "nbconvert_exporter": "python",
   "pygments_lexer": "ipython3",
   "version": "3.8.8"
  }
 },
 "nbformat": 4,
 "nbformat_minor": 5
}
