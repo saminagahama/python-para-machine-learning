{
 "cells": [
  {
   "cell_type": "code",
   "execution_count": null,
   "id": "5ef900b2",
   "metadata": {},
   "outputs": [],
   "source": [
    "notas_rock = [5, 1, 4, 0, 2, 5, 2, 1, 0, 5, 5, 3, 5, 2, 5, 5, 3, 5, 4, 4]\n",
    "notas_pop = [3, 2, 5, 1, 2, 1, 4, 1, 5, 0, 4, 2, 1, 2, 5, 2, 4, 4, 0, 1]\n",
    "\n",
    "def categoria(nota):\n",
    "    if nota <= 1:\n",
    "        return 'ruim'\n",
    "    elif nota <= 3:\n",
    "        return 'mediana'\n",
    "    else:\n",
    "        return 'boa'\n",
    "    \n",
    "classificacao_rock = list(map(categoria, notas_rock))\n",
    "classificacao_pop = list(map(categoria, notas_pop))\n",
    "\n",
    "rock_bom = list(filter(lambda x: x == 'boa', classificacao_rock))\n",
    "pop_bom = list(filter(lambda x: x == 'boa', classificacao_pop))\n",
    "\n",
    "rock_medio = list(filter(lambda x: x == 'mediana', classificacao_rock))\n",
    "pop_medio = list(filter(lambda x: x == 'mediana', classificacao_pop))\n",
    "\n",
    "rock_ruim = list(filter(lambda x: x == 'ruim', classificacao_rock))\n",
    "pop_ruim = list(filter(lambda x: x == 'ruim', classificacao_pop))\n",
    "\n",
    "print('Músicas boas de rock:', len(rock_bom), '\\nMúsicas boas de pop:', len(pop_bom))\n",
    "print('Músicas medianas de rock:', len(rock_medio), '\\nMúsicas medianas de pop:', len(pop_medio))\n",
    "print('Músicas ruins de rock:', len(rock_ruim), '\\nMúsicas ruins de pop:', len(pop_ruim))"
   ]
  },
  {
   "cell_type": "code",
   "execution_count": null,
   "id": "fc99bae9",
   "metadata": {},
   "outputs": [],
   "source": [
    "musicas_pop_sao_todas_boas = list(map(lambda x: x == 'boa', classificacao_pop))\n",
    "print('Todas as músicas pop são boas?', all(musicas_pop_sao_todas_boas))"
   ]
  },
  {
   "cell_type": "code",
   "execution_count": null,
   "id": "de39e788",
   "metadata": {},
   "outputs": [],
   "source": [
    "musicas_rock_medias = list(map(lambda x: x == 'mediana', classificacao_rock))\n",
    "print('Há alguma música de rock mediana?', any(musicas_rock_medias))"
   ]
  }
 ],
 "metadata": {
  "kernelspec": {
   "display_name": "Python 3",
   "language": "python",
   "name": "python3"
  },
  "language_info": {
   "codemirror_mode": {
    "name": "ipython",
    "version": 3
   },
   "file_extension": ".py",
   "mimetype": "text/x-python",
   "name": "python",
   "nbconvert_exporter": "python",
   "pygments_lexer": "ipython3",
   "version": "3.8.8"
  }
 },
 "nbformat": 4,
 "nbformat_minor": 5
}
