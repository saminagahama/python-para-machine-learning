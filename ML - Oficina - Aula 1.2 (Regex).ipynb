{
 "cells": [
  {
   "cell_type": "code",
   "execution_count": 37,
   "id": "4dedd6ca",
   "metadata": {
    "scrolled": true
   },
   "outputs": [],
   "source": [
    "import re\n",
    "\n",
    "dados = \"\"\"2020-05-10 20:42:54,687 | INFO -> O programa foi iniciado\n",
    "2020-05-11 00:09:52,532 | ERROR -> Erro não esperado\n",
    "2020-05-11 09:01:10,812 | INFO -> O usuário utilizou o sistema\n",
    "2020-05-11 19:06:13,609 | INFO -> O usuário utilizou o sistema\n",
    "2020-05-11 20:46:35,271 | ERROR -> Erro não esperado\n",
    "2020-05-12 08:14:59,895 | ERROR -> Erro não esperado\n",
    "2020-05-12 11:33:59,700 | INFO -> O usuário utilizou o sistema\n",
    "2020-05-13 10:20:14,673 | INFO -> O usuário utilizou o sistema\n",
    "2020-05-13 16:58:10,298 | WARNING -> O usuário tentou fazer uma operação invalida\n",
    "2020-05-14 03:55:25,383 | INFO -> O usuário utilizou o sistema\n",
    "2020-05-15 02:59:29,002 | INFO -> O usuário utilizou o sistema\n",
    "2020-05-15 08:40:33,776 | ERROR -> Erro não esperado\n",
    "2020-05-15 13:45:29,089 | WARNING -> O usuário tentou fazer uma operação invalida\"\"\""
   ]
  },
  {
   "cell_type": "code",
   "execution_count": 58,
   "id": "71979f58",
   "metadata": {},
   "outputs": [
    {
     "name": "stdout",
     "output_type": "stream",
     "text": [
      "Número de erros:  4\n",
      "Horas dos erros: [' 00:09:52,532 | ERROR', ' 20:46:35,271 | ERROR', ' 08:14:59,895 | ERROR', ' 08:40:33,776 | ERROR']\n"
     ]
    }
   ],
   "source": [
    "msg_erro = re.findall('ERROR', dados)\n",
    "horas_erro = re.findall(' \\d{2}:\\d{2}:\\d{2},\\d{3}\\s\\W\\sERROR', dados)\n",
    "\n",
    "\n",
    "print('Número de erros: ', len(msg_erro))\n",
    "print('Horas dos erros:', horas_erro)\n",
    "\n"
   ]
  }
 ],
 "metadata": {
  "kernelspec": {
   "display_name": "Python 3",
   "language": "python",
   "name": "python3"
  },
  "language_info": {
   "codemirror_mode": {
    "name": "ipython",
    "version": 3
   },
   "file_extension": ".py",
   "mimetype": "text/x-python",
   "name": "python",
   "nbconvert_exporter": "python",
   "pygments_lexer": "ipython3",
   "version": "3.8.8"
  }
 },
 "nbformat": 4,
 "nbformat_minor": 5
}
